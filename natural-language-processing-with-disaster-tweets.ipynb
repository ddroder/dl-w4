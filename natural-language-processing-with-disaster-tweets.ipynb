{
 "cells": [
  {
   "cell_type": "code",
   "execution_count": 1,
   "id": "7d2845e0",
   "metadata": {
    "_cell_guid": "b1076dfc-b9ad-4769-8c92-a6c4dae69d19",
    "_uuid": "8f2839f25d086af736a60e9eeb907d3b93b6e0e5",
    "execution": {
     "iopub.execute_input": "2023-09-09T07:33:33.334495Z",
     "iopub.status.busy": "2023-09-09T07:33:33.333948Z",
     "iopub.status.idle": "2023-09-09T07:33:33.996558Z",
     "shell.execute_reply": "2023-09-09T07:33:33.995609Z"
    },
    "papermill": {
     "duration": 0.675623,
     "end_time": "2023-09-09T07:33:33.998872",
     "exception": false,
     "start_time": "2023-09-09T07:33:33.323249",
     "status": "completed"
    },
    "tags": []
   },
   "outputs": [],
   "source": [
    "import numpy as np # linear algebra\n",
    "import pandas as pd # data processing, CSV file I/O (e.g. pd.read_csv)"
   ]
  },
  {
   "cell_type": "code",
   "execution_count": 4,
   "id": "1253ecfb",
   "metadata": {
    "execution": {
     "iopub.execute_input": "2023-09-09T07:33:34.018975Z",
     "iopub.status.busy": "2023-09-09T07:33:34.018510Z",
     "iopub.status.idle": "2023-09-09T07:33:45.204743Z",
     "shell.execute_reply": "2023-09-09T07:33:45.203401Z"
    },
    "papermill": {
     "duration": 11.198694,
     "end_time": "2023-09-09T07:33:45.206930",
     "exception": false,
     "start_time": "2023-09-09T07:33:34.008236",
     "status": "completed"
    },
    "tags": []
   },
   "outputs": [
    {
     "name": "stderr",
     "output_type": "stream",
     "text": [
      "/Library/Frameworks/Python.framework/Versions/3.11/lib/python3.11/site-packages/tqdm/auto.py:21: TqdmWarning: IProgress not found. Please update jupyter and ipywidgets. See https://ipywidgets.readthedocs.io/en/stable/user_install.html\n",
      "  from .autonotebook import tqdm as notebook_tqdm\n"
     ]
    }
   ],
   "source": [
    "import matplotlib.pyplot as plt\n",
    "import seaborn as sns\n",
    "\n",
    "from tensorflow.keras.preprocessing.text import Tokenizer\n",
    "from tensorflow.keras.preprocessing.sequence import pad_sequences\n",
    "\n",
    "import tensorflow as tf\n",
    "import tensorflow_datasets as tfds"
   ]
  },
  {
   "cell_type": "code",
   "execution_count": 6,
   "id": "c0347b81",
   "metadata": {
    "execution": {
     "iopub.execute_input": "2023-09-09T07:33:45.226533Z",
     "iopub.status.busy": "2023-09-09T07:33:45.225927Z",
     "iopub.status.idle": "2023-09-09T07:33:45.270572Z",
     "shell.execute_reply": "2023-09-09T07:33:45.269924Z"
    },
    "papermill": {
     "duration": 0.056343,
     "end_time": "2023-09-09T07:33:45.272275",
     "exception": false,
     "start_time": "2023-09-09T07:33:45.215932",
     "status": "completed"
    },
    "tags": []
   },
   "outputs": [
    {
     "data": {
      "text/plain": [
       "(7613, 5)"
      ]
     },
     "execution_count": 6,
     "metadata": {},
     "output_type": "execute_result"
    }
   ],
   "source": [
    "train_dataset = pd.read_csv('/Users/ddroder/work/code/hw/dl/rnn/train.csv')\n",
    "train_dataset.shape"
   ]
  },
  {
   "cell_type": "code",
   "execution_count": 7,
   "id": "2bd50272",
   "metadata": {
    "execution": {
     "iopub.execute_input": "2023-09-09T07:33:45.291304Z",
     "iopub.status.busy": "2023-09-09T07:33:45.290963Z",
     "iopub.status.idle": "2023-09-09T07:33:45.310272Z",
     "shell.execute_reply": "2023-09-09T07:33:45.309050Z"
    },
    "papermill": {
     "duration": 0.031216,
     "end_time": "2023-09-09T07:33:45.312467",
     "exception": false,
     "start_time": "2023-09-09T07:33:45.281251",
     "status": "completed"
    },
    "tags": []
   },
   "outputs": [
    {
     "data": {
      "text/html": [
       "<div>\n",
       "<style scoped>\n",
       "    .dataframe tbody tr th:only-of-type {\n",
       "        vertical-align: middle;\n",
       "    }\n",
       "\n",
       "    .dataframe tbody tr th {\n",
       "        vertical-align: top;\n",
       "    }\n",
       "\n",
       "    .dataframe thead th {\n",
       "        text-align: right;\n",
       "    }\n",
       "</style>\n",
       "<table border=\"1\" class=\"dataframe\">\n",
       "  <thead>\n",
       "    <tr style=\"text-align: right;\">\n",
       "      <th></th>\n",
       "      <th>id</th>\n",
       "      <th>keyword</th>\n",
       "      <th>location</th>\n",
       "      <th>text</th>\n",
       "      <th>target</th>\n",
       "    </tr>\n",
       "  </thead>\n",
       "  <tbody>\n",
       "    <tr>\n",
       "      <th>0</th>\n",
       "      <td>1</td>\n",
       "      <td>NaN</td>\n",
       "      <td>NaN</td>\n",
       "      <td>Our Deeds are the Reason of this #earthquake M...</td>\n",
       "      <td>1</td>\n",
       "    </tr>\n",
       "    <tr>\n",
       "      <th>1</th>\n",
       "      <td>4</td>\n",
       "      <td>NaN</td>\n",
       "      <td>NaN</td>\n",
       "      <td>Forest fire near La Ronge Sask. Canada</td>\n",
       "      <td>1</td>\n",
       "    </tr>\n",
       "    <tr>\n",
       "      <th>2</th>\n",
       "      <td>5</td>\n",
       "      <td>NaN</td>\n",
       "      <td>NaN</td>\n",
       "      <td>All residents asked to 'shelter in place' are ...</td>\n",
       "      <td>1</td>\n",
       "    </tr>\n",
       "    <tr>\n",
       "      <th>3</th>\n",
       "      <td>6</td>\n",
       "      <td>NaN</td>\n",
       "      <td>NaN</td>\n",
       "      <td>13,000 people receive #wildfires evacuation or...</td>\n",
       "      <td>1</td>\n",
       "    </tr>\n",
       "    <tr>\n",
       "      <th>4</th>\n",
       "      <td>7</td>\n",
       "      <td>NaN</td>\n",
       "      <td>NaN</td>\n",
       "      <td>Just got sent this photo from Ruby #Alaska as ...</td>\n",
       "      <td>1</td>\n",
       "    </tr>\n",
       "  </tbody>\n",
       "</table>\n",
       "</div>"
      ],
      "text/plain": [
       "   id keyword location                                               text  \\\n",
       "0   1     NaN      NaN  Our Deeds are the Reason of this #earthquake M...   \n",
       "1   4     NaN      NaN             Forest fire near La Ronge Sask. Canada   \n",
       "2   5     NaN      NaN  All residents asked to 'shelter in place' are ...   \n",
       "3   6     NaN      NaN  13,000 people receive #wildfires evacuation or...   \n",
       "4   7     NaN      NaN  Just got sent this photo from Ruby #Alaska as ...   \n",
       "\n",
       "   target  \n",
       "0       1  \n",
       "1       1  \n",
       "2       1  \n",
       "3       1  \n",
       "4       1  "
      ]
     },
     "execution_count": 7,
     "metadata": {},
     "output_type": "execute_result"
    }
   ],
   "source": [
    "train_dataset.head()"
   ]
  },
  {
   "cell_type": "markdown",
   "id": "8c43888e",
   "metadata": {
    "papermill": {
     "duration": 0.009422,
     "end_time": "2023-09-09T07:33:45.331097",
     "exception": false,
     "start_time": "2023-09-09T07:33:45.321675",
     "status": "completed"
    },
    "tags": []
   },
   "source": [
    "# Explore the dataset"
   ]
  },
  {
   "cell_type": "code",
   "execution_count": 8,
   "id": "449508bd",
   "metadata": {
    "execution": {
     "iopub.execute_input": "2023-09-09T07:33:45.350859Z",
     "iopub.status.busy": "2023-09-09T07:33:45.350528Z",
     "iopub.status.idle": "2023-09-09T07:33:45.375766Z",
     "shell.execute_reply": "2023-09-09T07:33:45.374550Z"
    },
    "papermill": {
     "duration": 0.037243,
     "end_time": "2023-09-09T07:33:45.377629",
     "exception": false,
     "start_time": "2023-09-09T07:33:45.340386",
     "status": "completed"
    },
    "tags": []
   },
   "outputs": [
    {
     "name": "stdout",
     "output_type": "stream",
     "text": [
      "<class 'pandas.core.frame.DataFrame'>\n",
      "RangeIndex: 7613 entries, 0 to 7612\n",
      "Data columns (total 5 columns):\n",
      " #   Column    Non-Null Count  Dtype \n",
      "---  ------    --------------  ----- \n",
      " 0   id        7613 non-null   int64 \n",
      " 1   keyword   7552 non-null   object\n",
      " 2   location  5080 non-null   object\n",
      " 3   text      7613 non-null   object\n",
      " 4   target    7613 non-null   int64 \n",
      "dtypes: int64(2), object(3)\n",
      "memory usage: 297.5+ KB\n"
     ]
    }
   ],
   "source": [
    "train_dataset.info()"
   ]
  },
  {
   "cell_type": "code",
   "execution_count": 9,
   "id": "ce221b10",
   "metadata": {
    "execution": {
     "iopub.execute_input": "2023-09-09T07:33:45.397070Z",
     "iopub.status.busy": "2023-09-09T07:33:45.396728Z",
     "iopub.status.idle": "2023-09-09T07:33:45.406380Z",
     "shell.execute_reply": "2023-09-09T07:33:45.404983Z"
    },
    "papermill": {
     "duration": 0.021669,
     "end_time": "2023-09-09T07:33:45.408464",
     "exception": false,
     "start_time": "2023-09-09T07:33:45.386795",
     "status": "completed"
    },
    "tags": []
   },
   "outputs": [
    {
     "data": {
      "text/plain": [
       "id             0\n",
       "keyword       61\n",
       "location    2533\n",
       "text           0\n",
       "target         0\n",
       "dtype: int64"
      ]
     },
     "execution_count": 9,
     "metadata": {},
     "output_type": "execute_result"
    }
   ],
   "source": [
    "train_dataset.isna().sum()"
   ]
  },
  {
   "cell_type": "code",
   "execution_count": 10,
   "id": "cfcc119f",
   "metadata": {
    "execution": {
     "iopub.execute_input": "2023-09-09T07:33:45.428797Z",
     "iopub.status.busy": "2023-09-09T07:33:45.428420Z",
     "iopub.status.idle": "2023-09-09T07:33:45.434951Z",
     "shell.execute_reply": "2023-09-09T07:33:45.433864Z"
    },
    "papermill": {
     "duration": 0.019029,
     "end_time": "2023-09-09T07:33:45.437150",
     "exception": false,
     "start_time": "2023-09-09T07:33:45.418121",
     "status": "completed"
    },
    "tags": []
   },
   "outputs": [
    {
     "data": {
      "text/plain": [
       "'Our Deeds are the Reason of this #earthquake May ALLAH Forgive us all'"
      ]
     },
     "execution_count": 10,
     "metadata": {},
     "output_type": "execute_result"
    }
   ],
   "source": [
    "train_dataset.text[0]"
   ]
  },
  {
   "cell_type": "code",
   "execution_count": 11,
   "id": "63eb159c",
   "metadata": {
    "execution": {
     "iopub.execute_input": "2023-09-09T07:33:45.458142Z",
     "iopub.status.busy": "2023-09-09T07:33:45.457136Z",
     "iopub.status.idle": "2023-09-09T07:33:45.465300Z",
     "shell.execute_reply": "2023-09-09T07:33:45.464336Z"
    },
    "papermill": {
     "duration": 0.020106,
     "end_time": "2023-09-09T07:33:45.467026",
     "exception": false,
     "start_time": "2023-09-09T07:33:45.446920",
     "status": "completed"
    },
    "tags": []
   },
   "outputs": [
    {
     "data": {
      "text/plain": [
       "array([nan, 'Birmingham', 'Est. September 2012 - Bristol', ...,\n",
       "       'Vancouver, Canada', 'London ', 'Lincoln'], dtype=object)"
      ]
     },
     "execution_count": 11,
     "metadata": {},
     "output_type": "execute_result"
    }
   ],
   "source": [
    "train_dataset.location.unique()"
   ]
  },
  {
   "cell_type": "code",
   "execution_count": 15,
   "id": "534bf2f1",
   "metadata": {
    "execution": {
     "iopub.execute_input": "2023-09-09T07:33:45.487047Z",
     "iopub.status.busy": "2023-09-09T07:33:45.486677Z",
     "iopub.status.idle": "2023-09-09T07:33:45.493302Z",
     "shell.execute_reply": "2023-09-09T07:33:45.492582Z"
    },
    "papermill": {
     "duration": 0.018451,
     "end_time": "2023-09-09T07:33:45.494912",
     "exception": false,
     "start_time": "2023-09-09T07:33:45.476461",
     "status": "completed"
    },
    "tags": []
   },
   "outputs": [],
   "source": [
    "sentences = train_dataset.text\n",
    "labels = train_dataset.target.astype(str)"
   ]
  },
  {
   "cell_type": "code",
   "execution_count": null,
   "id": "a829503c",
   "metadata": {
    "papermill": {
     "duration": 0.009305,
     "end_time": "2023-09-09T07:33:45.514089",
     "exception": false,
     "start_time": "2023-09-09T07:33:45.504784",
     "status": "completed"
    },
    "tags": []
   },
   "outputs": [],
   "source": []
  },
  {
   "cell_type": "code",
   "execution_count": null,
   "id": "4e6eab6c",
   "metadata": {
    "papermill": {
     "duration": 0.009063,
     "end_time": "2023-09-09T07:33:45.534081",
     "exception": false,
     "start_time": "2023-09-09T07:33:45.525018",
     "status": "completed"
    },
    "tags": []
   },
   "outputs": [],
   "source": []
  },
  {
   "cell_type": "markdown",
   "id": "228705dc",
   "metadata": {
    "papermill": {
     "duration": 0.008818,
     "end_time": "2023-09-09T07:33:45.552334",
     "exception": false,
     "start_time": "2023-09-09T07:33:45.543516",
     "status": "completed"
    },
    "tags": []
   },
   "source": [
    "# Training - Validation Split"
   ]
  },
  {
   "cell_type": "code",
   "execution_count": 12,
   "id": "dc1b39cd",
   "metadata": {
    "execution": {
     "iopub.execute_input": "2023-09-09T07:33:45.572375Z",
     "iopub.status.busy": "2023-09-09T07:33:45.571808Z",
     "iopub.status.idle": "2023-09-09T07:33:45.576761Z",
     "shell.execute_reply": "2023-09-09T07:33:45.574985Z"
    },
    "papermill": {
     "duration": 0.017481,
     "end_time": "2023-09-09T07:33:45.578766",
     "exception": false,
     "start_time": "2023-09-09T07:33:45.561285",
     "status": "completed"
    },
    "tags": []
   },
   "outputs": [],
   "source": [
    "NUM_WORDS = 10000\n",
    "EMBEDDING_DIM = 64\n",
    "MAXLEN = 120\n",
    "PADDING = 'post'\n",
    "OOV_TOKEN = \"<OOV>\"\n",
    "TRAINING_SPLIT = .8"
   ]
  },
  {
   "cell_type": "code",
   "execution_count": 13,
   "id": "31192a5d",
   "metadata": {
    "execution": {
     "iopub.execute_input": "2023-09-09T07:33:45.598824Z",
     "iopub.status.busy": "2023-09-09T07:33:45.598448Z",
     "iopub.status.idle": "2023-09-09T07:33:45.605021Z",
     "shell.execute_reply": "2023-09-09T07:33:45.603957Z"
    },
    "papermill": {
     "duration": 0.018661,
     "end_time": "2023-09-09T07:33:45.606762",
     "exception": false,
     "start_time": "2023-09-09T07:33:45.588101",
     "status": "completed"
    },
    "tags": []
   },
   "outputs": [],
   "source": [
    "def train_val_split(sentences, labels, training_split):\n",
    "    \"\"\"\n",
    "    Splits the dataset into training and validation sets\n",
    "    \n",
    "    Args:\n",
    "        sentences (list of string): lower-cased sentences without stopwords\n",
    "        labels (list of string): list of labels\n",
    "        training split (float): proportion of the dataset to convert to include in the train set\n",
    "    \n",
    "    Returns:\n",
    "        train_sentences, validation_sentences, train_labels, validation_labels - lists containing the data splits\n",
    "    \"\"\"\n",
    "        \n",
    "    # Compute the number of sentences that will be used for training (should be an integer)\n",
    "    train_size = int(len(sentences)*training_split)\n",
    "\n",
    "    # Split the sentences and labels into train/validation splits\n",
    "    train_sentences = sentences[0:train_size]\n",
    "    train_labels = labels[0:train_size]\n",
    "\n",
    "    validation_sentences = sentences[train_size:]\n",
    "    validation_labels = labels[train_size:]\n",
    "    \n",
    "    \n",
    "    return train_sentences, validation_sentences, train_labels, validation_labels"
   ]
  },
  {
   "cell_type": "code",
   "execution_count": 16,
   "id": "1945bcbc",
   "metadata": {
    "execution": {
     "iopub.execute_input": "2023-09-09T07:33:45.627105Z",
     "iopub.status.busy": "2023-09-09T07:33:45.626466Z",
     "iopub.status.idle": "2023-09-09T07:33:45.633454Z",
     "shell.execute_reply": "2023-09-09T07:33:45.631933Z"
    },
    "papermill": {
     "duration": 0.018787,
     "end_time": "2023-09-09T07:33:45.635228",
     "exception": false,
     "start_time": "2023-09-09T07:33:45.616441",
     "status": "completed"
    },
    "tags": []
   },
   "outputs": [
    {
     "name": "stdout",
     "output_type": "stream",
     "text": [
      "There are 6090 sentences for training.\n",
      "\n",
      "There are 6090 labels for training.\n",
      "\n",
      "There are 1523 sentences for validation.\n",
      "\n",
      "There are 1523 labels for validation.\n"
     ]
    }
   ],
   "source": [
    "train_sentences, val_sentences, train_labels, val_labels = train_val_split(sentences, labels, TRAINING_SPLIT)\n",
    "\n",
    "print(f\"There are {len(train_sentences)} sentences for training.\\n\")\n",
    "print(f\"There are {len(train_labels)} labels for training.\\n\")\n",
    "print(f\"There are {len(val_sentences)} sentences for validation.\\n\")\n",
    "print(f\"There are {len(val_labels)} labels for validation.\")"
   ]
  },
  {
   "cell_type": "markdown",
   "id": "893c107f",
   "metadata": {
    "papermill": {
     "duration": 0.008883,
     "end_time": "2023-09-09T07:33:45.653472",
     "exception": false,
     "start_time": "2023-09-09T07:33:45.644589",
     "status": "completed"
    },
    "tags": []
   },
   "source": [
    "# Preprocessing"
   ]
  },
  {
   "cell_type": "code",
   "execution_count": 17,
   "id": "6c3c72b7",
   "metadata": {
    "execution": {
     "iopub.execute_input": "2023-09-09T07:33:45.674154Z",
     "iopub.status.busy": "2023-09-09T07:33:45.673559Z",
     "iopub.status.idle": "2023-09-09T07:33:45.681333Z",
     "shell.execute_reply": "2023-09-09T07:33:45.680010Z"
    },
    "papermill": {
     "duration": 0.020123,
     "end_time": "2023-09-09T07:33:45.683309",
     "exception": false,
     "start_time": "2023-09-09T07:33:45.663186",
     "status": "completed"
    },
    "tags": []
   },
   "outputs": [
    {
     "data": {
      "text/plain": [
       "0       Our Deeds are the Reason of this #earthquake M...\n",
       "1                  Forest fire near La Ronge Sask. Canada\n",
       "2       All residents asked to 'shelter in place' are ...\n",
       "3       13,000 people receive #wildfires evacuation or...\n",
       "4       Just got sent this photo from Ruby #Alaska as ...\n",
       "                              ...                        \n",
       "6085    Do you feel like you are sinking in low self-i...\n",
       "6086    After a Few Years Afloat Pension Plans Start S...\n",
       "6087    Do you feel like you are sinking in unhappines...\n",
       "6088    With a sinking music video tv career Brooke Ho...\n",
       "6089    @supernovalester I feel so bad for them. I can...\n",
       "Name: text, Length: 6090, dtype: object"
      ]
     },
     "execution_count": 17,
     "metadata": {},
     "output_type": "execute_result"
    }
   ],
   "source": [
    "train_sentences"
   ]
  },
  {
   "cell_type": "code",
   "execution_count": 18,
   "id": "80c5b0a9",
   "metadata": {
    "execution": {
     "iopub.execute_input": "2023-09-09T07:33:45.704352Z",
     "iopub.status.busy": "2023-09-09T07:33:45.704003Z",
     "iopub.status.idle": "2023-09-09T07:33:46.241065Z",
     "shell.execute_reply": "2023-09-09T07:33:46.239904Z"
    },
    "papermill": {
     "duration": 0.550454,
     "end_time": "2023-09-09T07:33:46.243645",
     "exception": false,
     "start_time": "2023-09-09T07:33:45.693191",
     "status": "completed"
    },
    "tags": []
   },
   "outputs": [
    {
     "data": {
      "text/plain": [
       "['', '[UNK]', 'the', 'a', 'in', 'to', 'of', 'and', 'i', 'is']"
      ]
     },
     "execution_count": 18,
     "metadata": {},
     "output_type": "execute_result"
    }
   ],
   "source": [
    "training_samples = int(train_dataset.shape[0]*0.8)\n",
    "train_df = train_dataset.sample(frac = 1,random_state=42,  ignore_index=True)\n",
    "\n",
    "def preprocess_string(string):\n",
    "        \n",
    "    remove_regex = r'[!\"#$%&()\\*\\+,-\\./:;<=>?@\\[\\\\\\]^_`{|}~\\']'\n",
    "    #remove_regex =   [!\"#$%&()\\*\\+,-\\./:;<=>?@\\[\\\\\\]^_`{|}~\\'] # f'[{re.escape(string.punctuation)}]'\n",
    "    s = tf.strings.regex_replace(string, remove_regex, '')\n",
    "\n",
    "    # remove stock market tickers like $GE\n",
    "    s = tf.strings.regex_replace(s,b'\\$\\w*',b'')\n",
    "    # remove old style retweet text \"RT\"\n",
    "    s = tf.strings.regex_replace(s,b'^RT[\\s]+', b'')\n",
    "\n",
    "    # lower case\n",
    "    s = tf.strings.lower(s)\n",
    "    # remove digits\n",
    "    s = tf.strings.regex_replace(s,b'[0-9]+', b'')\n",
    "    # remove hyperlinks    \n",
    "    s = tf.strings.regex_replace(s,b'https?://[^\\s\\n\\r]+', b'')\n",
    "\n",
    "    return s\n",
    "\n",
    "# Use the text vectorization layer to normalize, split, and map strings to\n",
    "# integers. Note that the layer uses the custom standardization defined above.\n",
    "# Set maximum_sequence length as all samples are not of the same length.\n",
    "\n",
    "text_dataset = tf.data.Dataset.from_tensor_slices(train_df.text)\n",
    "vectorize_layer = tf.keras.layers.TextVectorization(\n",
    "            standardize=preprocess_string, # Specific processing for tweets\n",
    "            max_tokens=NUM_WORDS, # Max number of word in the internal dictionnary. We keep the most frequent\n",
    "            output_mode='int',\n",
    "            output_sequence_length=MAXLEN  # Size max of text\n",
    "            )\n",
    "\n",
    "# Now that the vocab layer has been created, call `adapt` on the\n",
    "# text-only dataset to create the vocabulary.\n",
    "vectorize_layer.adapt(text_dataset.batch(64))   \n",
    "\n",
    "# To display the ten first words of the dictionary\n",
    "# '' : to identify padding\n",
    "# '[UNK] : to identify inknown words \n",
    "vectorize_layer.get_vocabulary()[:10]"
   ]
  },
  {
   "cell_type": "code",
   "execution_count": 19,
   "id": "e23281cb",
   "metadata": {
    "execution": {
     "iopub.execute_input": "2023-09-09T07:33:46.265319Z",
     "iopub.status.busy": "2023-09-09T07:33:46.264966Z",
     "iopub.status.idle": "2023-09-09T07:33:46.270361Z",
     "shell.execute_reply": "2023-09-09T07:33:46.269222Z"
    },
    "papermill": {
     "duration": 0.018277,
     "end_time": "2023-09-09T07:33:46.272260",
     "exception": false,
     "start_time": "2023-09-09T07:33:46.253983",
     "status": "completed"
    },
    "tags": []
   },
   "outputs": [],
   "source": [
    "callbacks_list = [tf.keras.callbacks.EarlyStopping(\n",
    "                  monitor='val_loss',\n",
    "                  restore_best_weights=True,\n",
    "                  patience=5)] "
   ]
  },
  {
   "cell_type": "markdown",
   "id": "8c90121f",
   "metadata": {
    "papermill": {
     "duration": 0.013094,
     "end_time": "2023-09-09T07:33:46.355796",
     "exception": false,
     "start_time": "2023-09-09T07:33:46.342702",
     "status": "completed"
    },
    "tags": []
   },
   "source": [
    "# Text classification with CNN"
   ]
  },
  {
   "cell_type": "code",
   "execution_count": 21,
   "id": "31199f45",
   "metadata": {
    "execution": {
     "iopub.execute_input": "2023-09-09T07:33:46.380151Z",
     "iopub.status.busy": "2023-09-09T07:33:46.379369Z",
     "iopub.status.idle": "2023-09-09T07:33:46.386348Z",
     "shell.execute_reply": "2023-09-09T07:33:46.385695Z"
    },
    "papermill": {
     "duration": 0.019947,
     "end_time": "2023-09-09T07:33:46.388290",
     "exception": false,
     "start_time": "2023-09-09T07:33:46.368343",
     "status": "completed"
    },
    "tags": []
   },
   "outputs": [],
   "source": [
    "def create_model(num_words, embedding_dim, maxlen):\n",
    "    \n",
    "    tf.random.set_seed(123)\n",
    "\n",
    "    model = tf.keras.Sequential()\n",
    "    model.add(vectorize_layer)\n",
    "    model.add(tf.keras.layers.Embedding(input_dim=num_words, output_dim=embedding_dim, input_length=maxlen))\n",
    "    model.add(tf.keras.layers.Dropout(0.2))\n",
    "    model.add(tf.keras.layers.Conv1D(16, 3, activation='relu'))\n",
    "    model.add(tf.keras.layers.GlobalAveragePooling1D())\n",
    "    model.add(tf.keras.layers.Dropout(0.2))\n",
    "    model.add(tf.keras.layers.Dense(16, activation='relu'))\n",
    "    model.add(tf.keras.layers.Dropout(0.2))\n",
    "    model.add(tf.keras.layers.Dense(2, activation='softmax'))\n",
    "    \n",
    "    model.compile(loss=tf.keras.losses.SparseCategoricalCrossentropy(),\n",
    "                  optimizer= tf.keras.optimizers.Adam(amsgrad=True, learning_rate=0.001),                 \n",
    "                  metrics=['accuracy']) \n",
    "    \n",
    "    model.summary()\n",
    "\n",
    "    return model"
   ]
  },
  {
   "cell_type": "code",
   "execution_count": 22,
   "id": "1bcbeca5",
   "metadata": {
    "execution": {
     "iopub.execute_input": "2023-09-09T07:33:46.416157Z",
     "iopub.status.busy": "2023-09-09T07:33:46.415721Z",
     "iopub.status.idle": "2023-09-09T07:33:46.597431Z",
     "shell.execute_reply": "2023-09-09T07:33:46.596727Z"
    },
    "papermill": {
     "duration": 0.204276,
     "end_time": "2023-09-09T07:33:46.606226",
     "exception": false,
     "start_time": "2023-09-09T07:33:46.401950",
     "status": "completed"
    },
    "tags": []
   },
   "outputs": [
    {
     "name": "stderr",
     "output_type": "stream",
     "text": [
      "WARNING:absl:At this time, the v2.11+ optimizer `tf.keras.optimizers.Adam` runs slowly on M1/M2 Macs, please use the legacy Keras optimizer instead, located at `tf.keras.optimizers.legacy.Adam`.\n"
     ]
    },
    {
     "name": "stdout",
     "output_type": "stream",
     "text": [
      "Model: \"sequential\"\n",
      "_________________________________________________________________\n",
      " Layer (type)                Output Shape              Param #   \n",
      "=================================================================\n",
      " text_vectorization (TextVe  (None, 120)               0         \n",
      " ctorization)                                                    \n",
      "                                                                 \n",
      " embedding (Embedding)       (None, 120, 64)           640000    \n",
      "                                                                 \n",
      " dropout (Dropout)           (None, 120, 64)           0         \n",
      "                                                                 \n",
      " conv1d (Conv1D)             (None, 118, 16)           3088      \n",
      "                                                                 \n",
      " global_average_pooling1d (  (None, 16)                0         \n",
      " GlobalAveragePooling1D)                                         \n",
      "                                                                 \n",
      " dropout_1 (Dropout)         (None, 16)                0         \n",
      "                                                                 \n",
      " dense (Dense)               (None, 16)                272       \n",
      "                                                                 \n",
      " dropout_2 (Dropout)         (None, 16)                0         \n",
      "                                                                 \n",
      " dense_1 (Dense)             (None, 2)                 34        \n",
      "                                                                 \n",
      "=================================================================\n",
      "Total params: 643394 (2.45 MB)\n",
      "Trainable params: 643394 (2.45 MB)\n",
      "Non-trainable params: 0 (0.00 Byte)\n",
      "_________________________________________________________________\n"
     ]
    }
   ],
   "source": [
    "model = create_model(NUM_WORDS, EMBEDDING_DIM, MAXLEN)"
   ]
  },
  {
   "cell_type": "code",
   "execution_count": 23,
   "id": "c3345a88",
   "metadata": {
    "execution": {
     "iopub.execute_input": "2023-09-09T07:33:46.630755Z",
     "iopub.status.busy": "2023-09-09T07:33:46.630445Z",
     "iopub.status.idle": "2023-09-09T07:34:04.306171Z",
     "shell.execute_reply": "2023-09-09T07:34:04.304942Z"
    },
    "papermill": {
     "duration": 17.690203,
     "end_time": "2023-09-09T07:34:04.308292",
     "exception": false,
     "start_time": "2023-09-09T07:33:46.618089",
     "status": "completed"
    },
    "tags": []
   },
   "outputs": [
    {
     "name": "stdout",
     "output_type": "stream",
     "text": [
      "Epoch 1/100\n",
      "191/191 [==============================] - 5s 23ms/step - loss: 0.6830 - accuracy: 0.5755 - val_loss: 0.6881 - val_accuracy: 0.5345\n",
      "Epoch 2/100\n",
      "191/191 [==============================] - 5s 28ms/step - loss: 0.5616 - accuracy: 0.7312 - val_loss: 0.4691 - val_accuracy: 0.7840\n",
      "Epoch 3/100\n",
      "191/191 [==============================] - 5s 24ms/step - loss: 0.3895 - accuracy: 0.8440 - val_loss: 0.4358 - val_accuracy: 0.7997\n",
      "Epoch 4/100\n",
      "191/191 [==============================] - 4s 22ms/step - loss: 0.3146 - accuracy: 0.8768 - val_loss: 0.4535 - val_accuracy: 0.7846\n",
      "Epoch 5/100\n",
      "191/191 [==============================] - 4s 21ms/step - loss: 0.2656 - accuracy: 0.9010 - val_loss: 0.4646 - val_accuracy: 0.7853\n",
      "Epoch 6/100\n",
      "191/191 [==============================] - 6s 31ms/step - loss: 0.2199 - accuracy: 0.9195 - val_loss: 0.5409 - val_accuracy: 0.7649\n",
      "Epoch 7/100\n",
      "191/191 [==============================] - 4s 23ms/step - loss: 0.1944 - accuracy: 0.9315 - val_loss: 0.5470 - val_accuracy: 0.7682\n",
      "Epoch 8/100\n",
      "191/191 [==============================] - 5s 26ms/step - loss: 0.1581 - accuracy: 0.9445 - val_loss: 0.6200 - val_accuracy: 0.7643\n"
     ]
    }
   ],
   "source": [
    "history = model.fit(train_sentences, train_labels.astype(int), \n",
    "                    epochs=100, \n",
    "                    callbacks = callbacks_list,\n",
    "                    validation_data=(val_sentences, val_labels.astype(int)))"
   ]
  },
  {
   "cell_type": "code",
   "execution_count": 19,
   "id": "58f3c5f6",
   "metadata": {
    "execution": {
     "iopub.execute_input": "2023-09-09T07:34:04.366759Z",
     "iopub.status.busy": "2023-09-09T07:34:04.365941Z",
     "iopub.status.idle": "2023-09-09T07:34:04.542854Z",
     "shell.execute_reply": "2023-09-09T07:34:04.541900Z"
    },
    "papermill": {
     "duration": 0.209098,
     "end_time": "2023-09-09T07:34:04.545145",
     "exception": false,
     "start_time": "2023-09-09T07:34:04.336047",
     "status": "completed"
    },
    "tags": []
   },
   "outputs": [
    {
     "name": "stdout",
     "output_type": "stream",
     "text": [
      "48/48 [==============================] - 0s 2ms/step - loss: 0.4950 - accuracy: 0.7505\n"
     ]
    },
    {
     "data": {
      "text/plain": [
       "[0.4950101375579834, 0.7504924535751343]"
      ]
     },
     "execution_count": 19,
     "metadata": {},
     "output_type": "execute_result"
    }
   ],
   "source": [
    "model.evaluate(val_sentences, val_labels.astype(int))"
   ]
  },
  {
   "cell_type": "code",
   "execution_count": 24,
   "id": "2d9f1e96",
   "metadata": {
    "execution": {
     "iopub.execute_input": "2023-09-09T07:34:04.605652Z",
     "iopub.status.busy": "2023-09-09T07:34:04.605307Z",
     "iopub.status.idle": "2023-09-09T07:34:05.054191Z",
     "shell.execute_reply": "2023-09-09T07:34:05.052865Z"
    },
    "papermill": {
     "duration": 0.482434,
     "end_time": "2023-09-09T07:34:05.056741",
     "exception": false,
     "start_time": "2023-09-09T07:34:04.574307",
     "status": "completed"
    },
    "tags": []
   },
   "outputs": [
    {
     "data": {
      "image/png": "[encoded data removed]",
      "text/plain": [
       "<Figure size 1400x400 with 2 Axes>"
      ]
     },
     "metadata": {},
     "output_type": "display_data"
    }
   ],
   "source": [
    "def plot_graphs(history, metric):\n",
    "    plt.plot(history.history[metric])\n",
    "    plt.plot(history.history[f'val_{metric}'])\n",
    "    plt.xlabel(\"Epochs\")\n",
    "    plt.ylabel(metric)\n",
    "    plt.legend([metric, f'val_{metric}'])\n",
    "    \n",
    "    \n",
    "plt.figure(figsize=(14,4))\n",
    "plt.subplot(121)\n",
    "plot_graphs(history, \"accuracy\")\n",
    "plt.subplot(122)\n",
    "plot_graphs(history, \"loss\")\n"
   ]
  },
  {
   "cell_type": "markdown",
   "id": "710e8061",
   "metadata": {
    "papermill": {
     "duration": 0.028549,
     "end_time": "2023-09-09T07:34:05.114458",
     "exception": false,
     "start_time": "2023-09-09T07:34:05.085909",
     "status": "completed"
    },
    "tags": []
   },
   "source": [
    "# Text classification with RNN"
   ]
  },
  {
   "cell_type": "code",
   "execution_count": 26,
   "id": "79cf7124",
   "metadata": {
    "execution": {
     "iopub.execute_input": "2023-09-09T07:34:05.173834Z",
     "iopub.status.busy": "2023-09-09T07:34:05.173495Z",
     "iopub.status.idle": "2023-09-09T07:34:05.183524Z",
     "shell.execute_reply": "2023-09-09T07:34:05.182236Z"
    },
    "papermill": {
     "duration": 0.041854,
     "end_time": "2023-09-09T07:34:05.185383",
     "exception": false,
     "start_time": "2023-09-09T07:34:05.143529",
     "status": "completed"
    },
    "tags": []
   },
   "outputs": [],
   "source": [
    "def create_model(num_words, embedding_dim, maxlen):\n",
    "    \n",
    "    tf.random.set_seed(123)\n",
    "\n",
    "    model = tf.keras.Sequential()\n",
    "    model.add(vectorize_layer)\n",
    "    model.add(tf.keras.layers.Embedding(input_dim=num_words, output_dim=embedding_dim, input_length=maxlen))\n",
    "    model.add(tf.keras.layers.Dropout(0.2))\n",
    "    model.add(tf.keras.layers.Bidirectional(tf.keras.layers.LSTM(16, return_sequences=True)))\n",
    "    model.add(tf.keras.layers.Bidirectional(tf.keras.layers.LSTM(8)))\n",
    "    model.add(tf.keras.layers.Dropout(0.2))\n",
    "    model.add(tf.keras.layers.Dense(16, activation='relu'))\n",
    "    model.add(tf.keras.layers.Dropout(0.2))\n",
    "    model.add(tf.keras.layers.Dense(2, activation='softmax'))\n",
    "    \n",
    "    tf.keras.layers.Bidirectional(tf.keras.layers.LSTM(64,  return_sequences=True)),\n",
    "    tf.keras.layers.Bidirectional(tf.keras.layers.LSTM(32)),\n",
    "    \n",
    "    model.compile(loss=tf.keras.losses.SparseCategoricalCrossentropy(),\n",
    "                  optimizer= tf.keras.optimizers.Adam(amsgrad=True, learning_rate=0.001),                 \n",
    "                  metrics=['accuracy']) \n",
    "    \n",
    "    model.summary()\n",
    "\n",
    "    return model"
   ]
  },
  {
   "cell_type": "code",
   "execution_count": 27,
   "id": "773d8e97",
   "metadata": {
    "execution": {
     "iopub.execute_input": "2023-09-09T07:34:05.245324Z",
     "iopub.status.busy": "2023-09-09T07:34:05.244992Z",
     "iopub.status.idle": "2023-09-09T07:34:06.514366Z",
     "shell.execute_reply": "2023-09-09T07:34:06.512979Z"
    },
    "papermill": {
     "duration": 1.302056,
     "end_time": "2023-09-09T07:34:06.516342",
     "exception": false,
     "start_time": "2023-09-09T07:34:05.214286",
     "status": "completed"
    },
    "tags": []
   },
   "outputs": [
    {
     "name": "stdout",
     "output_type": "stream",
     "text": [
      "10000 64 120\n"
     ]
    },
    {
     "name": "stderr",
     "output_type": "stream",
     "text": [
      "WARNING:absl:At this time, the v2.11+ optimizer `tf.keras.optimizers.Adam` runs slowly on M1/M2 Macs, please use the legacy Keras optimizer instead, located at `tf.keras.optimizers.legacy.Adam`.\n"
     ]
    },
    {
     "name": "stdout",
     "output_type": "stream",
     "text": [
      "Model: \"sequential_1\"\n",
      "_________________________________________________________________\n",
      " Layer (type)                Output Shape              Param #   \n",
      "=================================================================\n",
      " text_vectorization (TextVe  (None, 120)               0         \n",
      " ctorization)                                                    \n",
      "                                                                 \n",
      " embedding_1 (Embedding)     (None, 120, 64)           640000    \n",
      "                                                                 \n",
      " dropout_3 (Dropout)         (None, 120, 64)           0         \n",
      "                                                                 \n",
      " bidirectional (Bidirection  (None, 120, 32)           10368     \n",
      " al)                                                             \n",
      "                                                                 \n",
      " bidirectional_1 (Bidirecti  (None, 16)                2624      \n",
      " onal)                                                           \n",
      "                                                                 \n",
      " dropout_4 (Dropout)         (None, 16)                0         \n",
      "                                                                 \n",
      " dense_2 (Dense)             (None, 16)                272       \n",
      "                                                                 \n",
      " dropout_5 (Dropout)         (None, 16)                0         \n",
      "                                                                 \n",
      " dense_3 (Dense)             (None, 2)                 34        \n",
      "                                                                 \n",
      "=================================================================\n",
      "Total params: 653298 (2.49 MB)\n",
      "Trainable params: 653298 (2.49 MB)\n",
      "Non-trainable params: 0 (0.00 Byte)\n",
      "_________________________________________________________________\n"
     ]
    }
   ],
   "source": [
    "print(NUM_WORDS, EMBEDDING_DIM, MAXLEN)\n",
    "model = create_model(NUM_WORDS, EMBEDDING_DIM, MAXLEN)"
   ]
  },
  {
   "cell_type": "code",
   "execution_count": 28,
   "id": "85917483",
   "metadata": {
    "execution": {
     "iopub.execute_input": "2023-09-09T07:34:06.578671Z",
     "iopub.status.busy": "2023-09-09T07:34:06.577804Z",
     "iopub.status.idle": "2023-09-09T07:35:55.769468Z",
     "shell.execute_reply": "2023-09-09T07:35:55.768696Z"
    },
    "papermill": {
     "duration": 109.225147,
     "end_time": "2023-09-09T07:35:55.771501",
     "exception": false,
     "start_time": "2023-09-09T07:34:06.546354",
     "status": "completed"
    },
    "tags": []
   },
   "outputs": [
    {
     "name": "stdout",
     "output_type": "stream",
     "text": [
      "Epoch 1/20\n",
      "191/191 [==============================] - 27s 117ms/step - loss: 0.5714 - accuracy: 0.7043 - val_loss: 0.4698 - val_accuracy: 0.7840\n",
      "Epoch 2/20\n",
      "191/191 [==============================] - 24s 125ms/step - loss: 0.3668 - accuracy: 0.8585 - val_loss: 0.4965 - val_accuracy: 0.7794\n",
      "Epoch 3/20\n",
      "191/191 [==============================] - 21s 108ms/step - loss: 0.2686 - accuracy: 0.9080 - val_loss: 0.5212 - val_accuracy: 0.7669\n",
      "Epoch 4/20\n",
      "191/191 [==============================] - 17s 90ms/step - loss: 0.2008 - accuracy: 0.9325 - val_loss: 0.6261 - val_accuracy: 0.7492\n",
      "Epoch 5/20\n",
      "191/191 [==============================] - 16s 85ms/step - loss: 0.1462 - accuracy: 0.9529 - val_loss: 0.6949 - val_accuracy: 0.7367\n",
      "Epoch 6/20\n",
      "191/191 [==============================] - 18s 93ms/step - loss: 0.1129 - accuracy: 0.9589 - val_loss: 0.9709 - val_accuracy: 0.7242\n"
     ]
    }
   ],
   "source": [
    "history = model.fit(train_sentences, train_labels.astype(int), \n",
    "                    epochs=20, \n",
    "                    callbacks = callbacks_list,\n",
    "                    validation_data=(val_sentences, val_labels.astype(int)))"
   ]
  },
  {
   "cell_type": "code",
   "execution_count": 29,
   "id": "d7e4e500",
   "metadata": {
    "execution": {
     "iopub.execute_input": "2023-09-09T07:35:55.963550Z",
     "iopub.status.busy": "2023-09-09T07:35:55.963053Z",
     "iopub.status.idle": "2023-09-09T07:35:56.914810Z",
     "shell.execute_reply": "2023-09-09T07:35:56.913827Z"
    },
    "papermill": {
     "duration": 1.050402,
     "end_time": "2023-09-09T07:35:56.916862",
     "exception": false,
     "start_time": "2023-09-09T07:35:55.866460",
     "status": "completed"
    },
    "tags": []
   },
   "outputs": [
    {
     "name": "stdout",
     "output_type": "stream",
     "text": [
      "48/48 [==============================] - 1s 21ms/step - loss: 0.4698 - accuracy: 0.7840\n"
     ]
    },
    {
     "data": {
      "text/plain": [
       "[0.4697977304458618, 0.7839789986610413]"
      ]
     },
     "execution_count": 29,
     "metadata": {},
     "output_type": "execute_result"
    }
   ],
   "source": [
    "model.evaluate(val_sentences, val_labels.astype(int))"
   ]
  },
  {
   "cell_type": "markdown",
   "id": "3aea7ce0",
   "metadata": {
    "papermill": {
     "duration": 0.095473,
     "end_time": "2023-09-09T07:35:57.106478",
     "exception": false,
     "start_time": "2023-09-09T07:35:57.011005",
     "status": "completed"
    },
    "tags": []
   },
   "source": [
    "# Conclusion"
   ]
  },
  {
   "cell_type": "markdown",
   "id": "ab874680",
   "metadata": {},
   "source": [
    "From the above code, we can see that the model is able to perform quite well even on a low trainin epoch. Though, the model is likely overfitting and we could reduce the epochs from 5 to something lower to generalize a bit better.\n",
    "\n",
    "We can also see that the model using the recurrent structure is able to perform better than models that are not using this structure. This displays the importance of the notion of memory in the LSTM architecture!"
   ]
  }
 ],
 "kernelspec": {
  "display_name": "Python 3",
  "language": "python",
  "name": "python3"
 },
 "language_info": {
  "codemirror_mode": {
   "name": "ipython",
   "version": 3
  },
  "file_extension": ".py",
  "mimetype": "text/x-python",
  "name": "python",
  "nbconvert_exporter": "python",
  "pygments_lexer": "ipython3",
  "version": "3.6.4"
 },
 "metadata": {
  "kernelspec": {
   "display_name": "Python 3",
   "language": "python",
   "name": "python3"
  },
  "language_info": {
   "codemirror_mode": {
    "name": "ipython",
    "version": 3
   },
   "file_extension": ".py",
   "mimetype": "text/x-python",
   "name": "python",
   "nbconvert_exporter": "python",
   "pygments_lexer": "ipython3",
   "version": "3.11.5"
  },
  "papermill": {
   "default_parameters": {},
   "duration": 154.209685,
   "end_time": "2023-09-09T07:36:04.732059",
   "environment_variables": {},
   "exception": null,
   "input_path": "__notebook__.ipynb",
   "output_path": "__notebook__.ipynb",
   "parameters": {},
   "start_time": "2023-09-09T07:33:30.522374",
   "version": "2.4.0"
  }
 },
 "nbformat": 4,
 "nbformat_minor": 5
}
